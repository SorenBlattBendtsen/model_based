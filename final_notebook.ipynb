{
 "cells": [
  {
   "cell_type": "markdown",
   "metadata": {},
   "source": [
    "# Introduction"
   ]
  },
  {
   "cell_type": "code",
   "execution_count": null,
   "metadata": {},
   "outputs": [],
   "source": [
    "# Import libraries\n",
    "\n",
    "import pandas as pd\n",
    "import numpy as np\n",
    "import matplotlib.pyplot as plt\n",
    "\n",
    "from sklearn.model_selection import train_test_split\n",
    "\n",
    "from sklearn.linear_model import LinearRegression\n",
    "from sklearn.metrics import mean_squared_error, mean_absolute_error\n",
    "\n",
    "# Personalized unction library\n",
    "from prepare_country_data import transpose_for_country_code, split_and_normalize, cyclical_transformation"
   ]
  },
  {
   "cell_type": "markdown",
   "metadata": {},
   "source": [
    "# Prepare dataset"
   ]
  },
  {
   "cell_type": "code",
   "execution_count": null,
   "metadata": {},
   "outputs": [],
   "source": [
    "# Load complete dataset\n",
    "df = pd.read_csv(\"data/2023/nordic_energy_data.csv\")\n",
    "# Apply transformations based on desired bidding zone\n",
    "df_dk1 = transpose_for_country_code(df, \"DK_1\")\n",
    "# Apply cyclical transformation to time\n",
    "df_dk1 = cyclical_transformation(df_dk1)\n",
    "# Chose desired time period\n",
    "df_dk1['Timestamp'] = pd.to_datetime(df_dk1['Timestamp'])\n",
    "df_dk1 = df_dk1[(df_dk1['Timestamp'].dt.month >= 1) & (df_dk1['Timestamp'].dt.month <= 11)]\n",
    "# Apply split and normalization based on desired number of test days\n",
    "X_train, X_test, y_train, y_test, X_train_mean, X_train_std, y_train_mean, y_train_std = split_and_normalize(df_dk1, test_days=2)\n",
    "print(X_train.shape, X_test.shape, y_train.shape, y_test.shape)\n",
    "\n",
    "# Convert to numpy arrays - relevant for some models\n",
    "X_train_num = X_train.to_numpy()\n",
    "X_test_num = X_test.to_numpy()\n",
    "y_train_num = y_train.to_numpy()\n",
    "y_test_num = y_test.to_numpy()"
   ]
  },
  {
   "cell_type": "markdown",
   "metadata": {},
   "source": [
    "# Simple Gaussian Model"
   ]
  },
  {
   "cell_type": "code",
   "execution_count": null,
   "metadata": {},
   "outputs": [],
   "source": [
    "# Define Covariance functions\n",
    "def covSE(x1, x2, cov_params=[2.0]):\n",
    "    return np.exp(-cov_params[0]*np.sum((x1 - x2)**2))\n",
    "\n",
    "def covPER(x1, x2, cov_params):\n",
    "    return cov_params[0] * np.exp(-cov_params[1] * np.sum( np.sin(np.pi*(x1-x2)/cov_params[2])**2 ))\n",
    "\n",
    "def covWN(x1, x2, cov_params):\n",
    "    if x1.any() == x2.any():\n",
    "        return cov_params[0]\n",
    "    else:\n",
    "        return 0\n",
    "\n",
    "def cov(x1, x2, cov_fn, cov_params):\n",
    "    K = np.zeros((len(x1), len(x2)))\n",
    "    for i in range(len(x1)):\n",
    "        for j in range(len(x2)):\n",
    "            K[i,j] = cov_fn(x1[i,:], x2[j,:], cov_params)\n",
    "    return K\n",
    "\n",
    "def covSUM_WN_SE(x1, x2, cov_params):\n",
    "    K = covWN(x1, x2, cov_params[:1]) + covSE(x1, x2, cov_params[1:])\n",
    "    return K\n",
    "\n",
    "def covSUM_PER_SE(x1, x2, cov_params):\n",
    "    return covPER(x1, x2, cov_params[:3]) + covSE(x1, x2, cov_params[3:])\n",
    "\n",
    "def make_and_plot_cov(X, cov_func, cov_params):\n",
    "\n",
    "    # construct K\n",
    "    K = cov(X, X, cov_func, cov_params)\n",
    "    plt.imshow(K)\n",
    "    plt.title(\"Covariance matrix from Gaussian process prior\")\n",
    "    return K"
   ]
  },
  {
   "cell_type": "code",
   "execution_count": null,
   "metadata": {},
   "outputs": [],
   "source": [
    "# Plot covariance matrices K and K_star_star\n",
    "K = make_and_plot_cov(X_train_num, covSE, [0.05])\n",
    "K = make_and_plot_cov(X_test_num, covSE, [0.1])"
   ]
  },
  {
   "cell_type": "code",
   "execution_count": null,
   "metadata": {},
   "outputs": [],
   "source": [
    "# Function to compute the predictive posterior\n",
    "def compute_predictive_posterior(X_test, sigma, cov_params):\n",
    "    N_test = len(X_test_num)\n",
    "\n",
    "    predictions_gp = np.zeros(N_test)\n",
    "    variances = np.zeros(N_test)\n",
    "    \n",
    "    # TODO: Compute prediction means and variances for all x_* in the test set.\n",
    "    # Note that K (and K^{-1}) is the same for all x_*. You don't need to re-compute it every time (slow! O(N^3))\n",
    "\n",
    "    K = cov(X_train_num, X_train_num, covSE, cov_params)\n",
    "    k_star = cov(X_train_num, X_test_num, covSE, cov_params)\n",
    "    k_star_star = cov(X_test_num, X_test_num, covSE, cov_params)\n",
    "\n",
    "    # K = cov(X_train_num, X_train_num, covSUM_PER_SE, [0.01, 0.05, 2, 0.05])\n",
    "    # k_star = cov(X_train_num, X_test_num, covSUM_PER_SE, [0.01, 0.05, 2, 0.05])\n",
    "    # k_star_star = cov(X_test_num, X_test_num, covSUM_PER_SE, [0.01, 0.05, 2, 0.05])\n",
    "    \n",
    "    mean = k_star.T @ np.linalg.inv(sigma**2*np.eye(X_train_num.shape[0]) + K) @ y_train_num\n",
    "    std = k_star_star + sigma**2 - k_star.T @ np.linalg.inv(sigma**2 * np.eye(X_train_num.shape[0]) + K) @ k_star\n",
    "\n",
    "    predictions_gp =  np.random.multivariate_normal(mean.squeeze(), std)\n",
    "\n",
    "    variances = np.diag(std)\n",
    "    \n",
    "    return predictions_gp, variances, mean, std\n",
    "\n",
    "# Define parameters\n",
    "#cov_params = [0.01, 0.05, 2, 0.05]\n",
    "cov_params = [0.0001]\n",
    "sigma = 0.01\n",
    "# Run model\n",
    "predictions_gp, variances, mean, std = compute_predictive_posterior(X_test, sigma, cov_params)"
   ]
  },
  {
   "cell_type": "code",
   "execution_count": null,
   "metadata": {},
   "outputs": [],
   "source": [
    "# print error measures\n",
    "mse = mean_squared_error(y_test_num, predictions_gp)\n",
    "rmse = np.sqrt(mse)\n",
    "mae = mean_absolute_error(y_test_num, predictions_gp)\n",
    "print(f\"Mean squared error: {mse}\")\n",
    "print(f\"Root mean squared error: {rmse}\")\n",
    "print(f\"Mean absolute error: {mae}\")\n",
    "\n",
    "# Plot results\n",
    "plt.figure(figsize=(15, 8))\n",
    "\n",
    "plt.plot(y_test.index, predictions_gp, label=\"Predicted\", color=\"red\")\n",
    "plt.plot(y_test.index, y_test_num, label=\"Actual\", color=\"blue\")\n",
    "plt.xlabel(\"Date\", fontsize=14)\n",
    "plt.ylabel(\"Day Ahead Price DK1\", fontsize=14)\n",
    "plt.title(\"Gaussian Process Model\", fontsize=16)\n",
    "plt.legend(fontsize=12)\n",
    "plt.show()"
   ]
  },
  {
   "cell_type": "markdown",
   "metadata": {},
   "source": [
    "# PPCA"
   ]
  },
  {
   "cell_type": "markdown",
   "metadata": {},
   "source": [
    "# Temporal Model MMCA"
   ]
  },
  {
   "cell_type": "markdown",
   "metadata": {},
   "source": [
    "# Temporal Model SVI"
   ]
  }
 ],
 "metadata": {
  "language_info": {
   "name": "python"
  }
 },
 "nbformat": 4,
 "nbformat_minor": 2
}
