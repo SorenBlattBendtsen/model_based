{
 "cells": [
  {
   "cell_type": "markdown",
   "metadata": {},
   "source": [
    "Data downloaded from ENTSOE API:\n",
    "https://github.com/EnergieID/entsoe-py"
   ]
  },
  {
   "cell_type": "code",
   "execution_count": 23,
   "metadata": {},
   "outputs": [],
   "source": [
    "from entsoe import EntsoePandasClient\n",
    "import pandas as pd\n",
    "import numpy as np"
   ]
  },
  {
   "cell_type": "code",
   "execution_count": 19,
   "metadata": {},
   "outputs": [],
   "source": [
    "client = EntsoePandasClient(api_key='a6160036-4d49-4c39-960f-99c3c690b6da', retry_count=60, retry_delay=10)\n",
    "\n",
    "start = pd.Timestamp('20220601', tz='Europe/Copenhagen')\n",
    "end = pd.Timestamp('20220630', tz='Europe/Copenhagen')\n",
    "country_codes = ['DK_1', 'DK_2', 'SE_1', 'SE_2', 'SE_3', 'SE_4', 'NO_1', 'NO_2', 'NO_3', 'NO_4', 'NO_5', 'FI']\n",
    "# Check and confirm these, in order to get the correct data for connected data points\n",
    "country_connections = {'DK_1': ['DK_2', 'NO_1'], 'DK_2': ['DK_1', 'SE_4'], 'SE_1': ['SE_2', 'NO_1'], 'SE_2': ['SE', 'NO'], 'SE_3': ['SE', 'FI'], 'SE_4': ['SE', 'PL'], 'NO_1': ['NO', 'SE'], 'NO_2': ['NO', 'SE'], 'NO_3': ['NO', 'FI'], 'NO_4': ['NO', 'RU'], 'NO_5': ['NO', 'NL'], 'FI': ['FI', 'SE']}"
   ]
  },
  {
   "cell_type": "code",
   "execution_count": 65,
   "metadata": {},
   "outputs": [],
   "source": [
    "# empty dataframes\n",
    "day_ahead_prices = pd.DataFrame()\n",
    "crossborder_flows = pd.DataFrame()\n",
    "scheduled_exchanges = pd.DataFrame()\n",
    "net_transfer_capacity = pd.DataFrame()\n",
    "aggregate_water_reservoirs_hydro_storage = pd.DataFrame()\n",
    "load = pd.DataFrame()\n",
    "load_forecast = pd.DataFrame()\n",
    "load_and_forecast = pd.DataFrame()\n",
    "generation_forecast = pd.DataFrame()\n",
    "wind_and_solar_forecast = pd.DataFrame()"
   ]
  },
  {
   "cell_type": "code",
   "execution_count": 66,
   "metadata": {},
   "outputs": [],
   "source": [
    "for country_code in country_codes:\n",
    "    # day ahead prices\n",
    "    day_ahead = pd.DataFrame(client.query_day_ahead_prices(country_code, start=start, end=end))\n",
    "    day_ahead['country_code'] = country_code\n",
    "    day_ahead_prices = pd.concat([day_ahead_prices, day_ahead])\n",
    "    # load \n",
    "    ld = pd.DataFrame(client.query_load(country_code, start=start, end=end))\n",
    "    ld['country_code'] = country_code\n",
    "    load = pd.concat([load, ld])\n",
    "    # load forecast\n",
    "    ld_fc = pd.DataFrame(client.query_load_forecast(country_code, start=start, end=end))\n",
    "    ld_fc['country_code'] = country_code\n",
    "    load_forecast = pd.concat([load_forecast, ld_fc])\n",
    "    # load and forecast\n",
    "    ld_fc = pd.DataFrame(client.query_load_and_forecast(country_code, start=start, end=end))\n",
    "    ld_fc['country_code'] = country_code\n",
    "    load_and_forecast = pd.concat([load_and_forecast, ld_fc])\n",
    "    # generation forecast\n",
    "    gen_fc = pd.DataFrame(client.query_generation_forecast(country_code, start=start, end=end))\n",
    "    gen_fc['country_code'] = country_code\n",
    "    generation_forecast = pd.concat([generation_forecast, gen_fc])\n",
    "    # wind and solar forecast\n",
    "    ws_fc = pd.DataFrame(client.query_wind_and_solar_forecast(country_code, start=start, end=end, psr_type=None))\n",
    "    ws_fc['country_code'] = country_code\n",
    "    wind_and_solar_forecast = pd.concat([wind_and_solar_forecast, ws_fc])\n",
    "\n",
    "\n",
    "    #crossborder_flows = pd.concat([crossborder_flows, client.query_crossborder_flows(country_code_from, country_code_to, start=start, end=end)]) # missing country_code_to\n",
    "    #scheduled_exchanges = pd.concat([scheduled_exchanges, client.query_scheduled_exchanges(country_code_from, country_code_to, start=start, end=end)]) # missing country_code_to\n",
    "    #net_transfer_capacity = pd.concat([net_transfer_capacity, client.query_net_transfer_capacity_dayahead(country_code_from, country_code_to, start=start, end=end)]) # missing country_code_to\n",
    "    #aggregate_water_reservoirs_hydro_storage = pd.concat([aggregate_water_reservoirs_hydro_storage, client.query_aggregate_water_reservoirs_and_hydro_storage(country_code, start=start, end=end)]) # not matching data\n",
    "    "
   ]
  },
  {
   "cell_type": "code",
   "execution_count": 67,
   "metadata": {},
   "outputs": [],
   "source": [
    "data_frame_lists = ['day_ahead_prices', 'load', 'load_forecast', 'load_and_forecast', 'generation_forecast', 'wind_and_solar_forecast'] #  'crossborder_flows', 'scheduled_exchanges', 'net_transfer_capacity', 'aggregate_water_reservoirs_hydro_storage',\n",
    "# save dataframes to csv\n",
    "for data_frame_list in data_frame_lists:\n",
    "    eval(data_frame_list).to_csv(f'data/{data_frame_list}.csv')"
   ]
  },
  {
   "cell_type": "code",
   "execution_count": null,
   "metadata": {},
   "outputs": [],
   "source": []
  }
 ],
 "metadata": {
  "kernelspec": {
   "display_name": "model_based",
   "language": "python",
   "name": "python3"
  },
  "language_info": {
   "codemirror_mode": {
    "name": "ipython",
    "version": 3
   },
   "file_extension": ".py",
   "mimetype": "text/x-python",
   "name": "python",
   "nbconvert_exporter": "python",
   "pygments_lexer": "ipython3",
   "version": "3.11.7"
  }
 },
 "nbformat": 4,
 "nbformat_minor": 2
}
